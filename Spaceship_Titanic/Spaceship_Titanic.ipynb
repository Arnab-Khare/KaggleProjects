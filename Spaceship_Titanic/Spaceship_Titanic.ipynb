{
 "cells": [
  {
   "cell_type": "code",
   "execution_count": 1,
   "id": "07a21986",
   "metadata": {},
   "outputs": [],
   "source": [
    "# !pip install pandas\n",
    "# !pip install seaborn\n",
    "# !pip install sklearn\n",
    "# !pip install xgboost"
   ]
  },
  {
   "cell_type": "code",
   "execution_count": 2,
   "id": "376e957a",
   "metadata": {},
   "outputs": [],
   "source": [
    "import pandas as pd\n",
    "import seaborn as sns\n",
    "import numpy as np\n",
    "import sklearn.preprocessing"
   ]
  },
  {
   "cell_type": "code",
   "execution_count": 3,
   "id": "de077154",
   "metadata": {},
   "outputs": [],
   "source": [
    "train = pd.read_csv('train.csv')\n",
    "test = pd.read_csv('test.csv')\n",
    "sample = pd.read_csv('sample_submission.csv')\n",
    "test['Transported'] = 'X'"
   ]
  },
  {
   "cell_type": "code",
   "execution_count": 4,
   "id": "0ddf5099",
   "metadata": {},
   "outputs": [
    {
     "data": {
      "text/plain": [
       "Index(['PassengerId', 'HomePlanet', 'CryoSleep', 'Cabin', 'Destination', 'Age',\n",
       "       'VIP', 'RoomService', 'FoodCourt', 'ShoppingMall', 'Spa', 'VRDeck',\n",
       "       'Name', 'Transported'],\n",
       "      dtype='object')"
      ]
     },
     "execution_count": 4,
     "metadata": {},
     "output_type": "execute_result"
    }
   ],
   "source": [
    "train.columns"
   ]
  },
  {
   "cell_type": "code",
   "execution_count": 5,
   "id": "975479db",
   "metadata": {},
   "outputs": [
    {
     "name": "stderr",
     "output_type": "stream",
     "text": [
      "C:\\Users\\arvin\\AppData\\Local\\Temp\\ipykernel_3536\\2667939765.py:1: FutureWarning: The frame.append method is deprecated and will be removed from pandas in a future version. Use pandas.concat instead.\n",
      "  df = train.append(test,ignore_index=True)\n"
     ]
    }
   ],
   "source": [
    "\n",
    "df = train.append(test,ignore_index=True)\n",
    "# df = df[df['Cabin'].notna()]\n",
    "df['Cabin'].fillna('F/603/S', inplace = True)\n",
    "# k = dict(df['Name'].value_counts())\n",
    "# k[np.nan]=1\n",
    "# df['Name_f'] = [k[df['Name'][i]] for i in range(len(df))]\n",
    "df = df.reset_index(drop=True)\n",
    "df['Cabin_0'] = [str(df['Cabin'][i]).split('/')[0] for i in range(len(df))]\n",
    "df['Cabin_1'] = [str(df['Cabin'][i]).split('/')[1] for i in range(len(df))]\n",
    "df['Cabin_2'] = [str(df['Cabin'][i]).split('/')[2] for i in range(len(df))]\n",
    "df['Passenger'] = [int(str(df['PassengerId'][i]).split('_')[1]) for i in range(len(df))]\n",
    "df['Passenger1'] = [int(str(df['PassengerId'][i]).split('_')[0]) for i in range(len(df))]\n",
    "df['VIP'].fillna(False, inplace = True)\n",
    "df['Age'].fillna(df['Age'].mean(), inplace = True)\n",
    "df['VIP'] = df['VIP'].astype(int)\n",
    "df['Cabin_1'] = df['Cabin_1'].astype(int)\n",
    "factor = 1\n",
    "for i in range(int(max(df['Age'])/factor)):\n",
    "    column_name = \"Age_\" + str(i*factor) + \"_\" + str(factor*i+factor)\n",
    "    arr = []\n",
    "    for j in range(len(df)):\n",
    "        if(int(df['Age'][j])>(i*factor) and int(df['Age'][j])<=(factor*i+factor)):\n",
    "            arr.append(1)\n",
    "        else:\n",
    "            arr.append(0)\n",
    "    df[column_name] = arr\n",
    "# 'RoomService', 'FoodCourt', 'ShoppingMall', 'Spa', 'VRDeck','Cabin_1'\n",
    "df['RoomService'].fillna(df['RoomService'].mean(), inplace = True)\n",
    "df['FoodCourt'].fillna(df['FoodCourt'].mean(), inplace = True)\n",
    "df['ShoppingMall'].fillna(df['ShoppingMall'].mean(), inplace = True)\n",
    "df['Spa'].fillna(df['Spa'].mean(), inplace = True)\n",
    "df['VRDeck'].fillna(df['VRDeck'].mean(), inplace = True)\n",
    "df['Cabin_1'].fillna(df['Cabin_1'].mean(), inplace = True)            "
   ]
  },
  {
   "cell_type": "code",
   "execution_count": 6,
   "id": "35e35370",
   "metadata": {},
   "outputs": [
    {
     "data": {
      "text/plain": [
       "0    S\n",
       "Name: Cabin_2, dtype: object"
      ]
     },
     "execution_count": 6,
     "metadata": {},
     "output_type": "execute_result"
    }
   ],
   "source": [
    "df['Cabin_2'].mode()"
   ]
  },
  {
   "cell_type": "code",
   "execution_count": 7,
   "id": "6773fd64",
   "metadata": {},
   "outputs": [
    {
     "data": {
      "text/plain": [
       "Index(['PassengerId', 'HomePlanet', 'CryoSleep', 'Cabin', 'Destination', 'Age',\n",
       "       'VIP', 'RoomService', 'FoodCourt', 'ShoppingMall', 'Spa', 'VRDeck',\n",
       "       'Name', 'Transported', 'Cabin_0', 'Cabin_1', 'Cabin_2', 'Passenger',\n",
       "       'Passenger1', 'Age_0_1', 'Age_1_2', 'Age_2_3', 'Age_3_4', 'Age_4_5',\n",
       "       'Age_5_6', 'Age_6_7', 'Age_7_8', 'Age_8_9', 'Age_9_10', 'Age_10_11',\n",
       "       'Age_11_12', 'Age_12_13', 'Age_13_14', 'Age_14_15', 'Age_15_16',\n",
       "       'Age_16_17', 'Age_17_18', 'Age_18_19', 'Age_19_20', 'Age_20_21',\n",
       "       'Age_21_22', 'Age_22_23', 'Age_23_24', 'Age_24_25', 'Age_25_26',\n",
       "       'Age_26_27', 'Age_27_28', 'Age_28_29', 'Age_29_30', 'Age_30_31',\n",
       "       'Age_31_32', 'Age_32_33', 'Age_33_34', 'Age_34_35', 'Age_35_36',\n",
       "       'Age_36_37', 'Age_37_38', 'Age_38_39', 'Age_39_40', 'Age_40_41',\n",
       "       'Age_41_42', 'Age_42_43', 'Age_43_44', 'Age_44_45', 'Age_45_46',\n",
       "       'Age_46_47', 'Age_47_48', 'Age_48_49', 'Age_49_50', 'Age_50_51',\n",
       "       'Age_51_52', 'Age_52_53', 'Age_53_54', 'Age_54_55', 'Age_55_56',\n",
       "       'Age_56_57', 'Age_57_58', 'Age_58_59', 'Age_59_60', 'Age_60_61',\n",
       "       'Age_61_62', 'Age_62_63', 'Age_63_64', 'Age_64_65', 'Age_65_66',\n",
       "       'Age_66_67', 'Age_67_68', 'Age_68_69', 'Age_69_70', 'Age_70_71',\n",
       "       'Age_71_72', 'Age_72_73', 'Age_73_74', 'Age_74_75', 'Age_75_76',\n",
       "       'Age_76_77', 'Age_77_78', 'Age_78_79'],\n",
       "      dtype='object')"
      ]
     },
     "execution_count": 7,
     "metadata": {},
     "output_type": "execute_result"
    }
   ],
   "source": [
    "df.columns"
   ]
  },
  {
   "cell_type": "code",
   "execution_count": 8,
   "id": "490a1c74",
   "metadata": {},
   "outputs": [],
   "source": [
    "import sklearn\n",
    "df_categorical = df[[ 'HomePlanet', 'CryoSleep', 'Destination','Cabin_0','Cabin_2']]\n",
    "df_numerical = df[[ 'RoomService', 'FoodCourt', 'ShoppingMall', 'Spa', 'VRDeck','Cabin_1']]\n",
    "df_numerical_ = pd.DataFrame(sklearn.preprocessing.normalize(df_numerical),columns = [ 'RoomService', 'FoodCourt', 'ShoppingMall', 'Spa', 'VRDeck','Cabin_1'])\n",
    "df_rest = df.drop([ 'HomePlanet', 'CryoSleep', 'Destination','Cabin_0',  'Cabin_2','RoomService', 'FoodCourt', 'ShoppingMall', 'Spa', 'VRDeck','Cabin_1'],axis =1 )\n"
   ]
  },
  {
   "cell_type": "code",
   "execution_count": 9,
   "id": "c63ba540",
   "metadata": {},
   "outputs": [],
   "source": [
    "df_categorical_out = pd.get_dummies(df_categorical)\n",
    "df_ = pd.concat([df_rest, df_categorical_out], axis=1)\n",
    "df = pd.concat([df_, df_numerical_], axis=1)"
   ]
  },
  {
   "cell_type": "code",
   "execution_count": 10,
   "id": "87efcf58",
   "metadata": {},
   "outputs": [],
   "source": [
    "train = df[df['Transported']!='X'].reset_index(drop=True)\n",
    "test_ = df[df['Transported']=='X'].reset_index(drop=True)"
   ]
  },
  {
   "cell_type": "code",
   "execution_count": null,
   "id": "958c8441",
   "metadata": {},
   "outputs": [],
   "source": []
  },
  {
   "cell_type": "code",
   "execution_count": 11,
   "id": "435ccea2",
   "metadata": {},
   "outputs": [
    {
     "data": {
      "text/plain": [
       "0        0001_01\n",
       "1        0002_01\n",
       "2        0003_01\n",
       "3        0003_02\n",
       "4        0004_01\n",
       "          ...   \n",
       "12965    9266_02\n",
       "12966    9269_01\n",
       "12967    9271_01\n",
       "12968    9273_01\n",
       "12969    9277_01\n",
       "Name: PassengerId, Length: 12970, dtype: object"
      ]
     },
     "execution_count": 11,
     "metadata": {},
     "output_type": "execute_result"
    }
   ],
   "source": [
    "df['PassengerId']"
   ]
  },
  {
   "cell_type": "code",
   "execution_count": 12,
   "id": "c8cb4b0e",
   "metadata": {},
   "outputs": [],
   "source": [
    "drop_columns = ['PassengerId', 'Cabin', 'Age', 'Name', 'Transported']\n",
    "label = train['Transported'].astype(int)\n",
    "train = train.drop(drop_columns,axis = 1)\n",
    "\n",
    "test_s = test_.drop(drop_columns,axis = 1)"
   ]
  },
  {
   "cell_type": "code",
   "execution_count": 13,
   "id": "2bb5e3dd",
   "metadata": {},
   "outputs": [
    {
     "data": {
      "text/plain": [
       "1    4378\n",
       "0    4315\n",
       "Name: Transported, dtype: int64"
      ]
     },
     "execution_count": 13,
     "metadata": {},
     "output_type": "execute_result"
    }
   ],
   "source": [
    "label.value_counts()"
   ]
  },
  {
   "cell_type": "code",
   "execution_count": 14,
   "id": "ab1d114d",
   "metadata": {},
   "outputs": [
    {
     "name": "stderr",
     "output_type": "stream",
     "text": [
      "C:\\Users\\arvin\\AppData\\Local\\Packages\\PythonSoftwareFoundation.Python.3.10_qbz5n2kfra8p0\\LocalCache\\local-packages\\Python310\\site-packages\\xgboost\\compat.py:36: FutureWarning: pandas.Int64Index is deprecated and will be removed from pandas in a future version. Use pandas.Index with the appropriate dtype instead.\n",
      "  from pandas import MultiIndex, Int64Index\n",
      "C:\\Users\\arvin\\AppData\\Local\\Packages\\PythonSoftwareFoundation.Python.3.10_qbz5n2kfra8p0\\LocalCache\\local-packages\\Python310\\site-packages\\xgboost\\sklearn.py:1224: UserWarning: The use of label encoder in XGBClassifier is deprecated and will be removed in a future release. To remove this warning, do the following: 1) Pass option use_label_encoder=False when constructing XGBClassifier object; and 2) Encode your labels (y) as integers starting with 0, i.e. 0, 1, 2, ..., [num_class - 1].\n",
      "  warnings.warn(label_encoder_deprecation_msg, UserWarning)\n",
      "C:\\Users\\arvin\\AppData\\Local\\Packages\\PythonSoftwareFoundation.Python.3.10_qbz5n2kfra8p0\\LocalCache\\local-packages\\Python310\\site-packages\\xgboost\\data.py:262: FutureWarning: pandas.Int64Index is deprecated and will be removed from pandas in a future version. Use pandas.Index with the appropriate dtype instead.\n",
      "  elif isinstance(data.columns, (pd.Int64Index, pd.RangeIndex)):\n"
     ]
    },
    {
     "name": "stdout",
     "output_type": "stream",
     "text": [
      "[03:32:16] WARNING: C:/Users/Administrator/workspace/xgboost-win64_release_1.5.1/src/learner.cc:1115: Starting in XGBoost 1.3.0, the default evaluation metric used with the objective 'binary:logistic' was changed from 'error' to 'logloss'. Explicitly set eval_metric if you'd like to restore the old behavior.\n"
     ]
    }
   ],
   "source": [
    "\n",
    "import xgboost as xgb\n",
    "xgb_cl = xgb.XGBClassifier()\n",
    "xgb_cl.fit(train, label)\n",
    "preds = xgb_cl.predict(test_s)"
   ]
  },
  {
   "cell_type": "code",
   "execution_count": 15,
   "id": "f2be1aa5",
   "metadata": {},
   "outputs": [
    {
     "data": {
      "text/plain": [
       "1    3063\n",
       "2     723\n",
       "3     269\n",
       "4     107\n",
       "5      56\n",
       "6      33\n",
       "7      20\n",
       "8       6\n",
       "Name: Passenger, dtype: int64"
      ]
     },
     "execution_count": 15,
     "metadata": {},
     "output_type": "execute_result"
    }
   ],
   "source": [
    "test_s['Passenger'].value_counts()"
   ]
  },
  {
   "cell_type": "code",
   "execution_count": 16,
   "id": "d18ae176",
   "metadata": {},
   "outputs": [],
   "source": [
    "test_['Transported']=preds==1"
   ]
  },
  {
   "cell_type": "code",
   "execution_count": 17,
   "id": "5e057be6",
   "metadata": {},
   "outputs": [
    {
     "name": "stderr",
     "output_type": "stream",
     "text": [
      "C:\\Users\\arvin\\AppData\\Local\\Temp\\ipykernel_3536\\2031637108.py:5: FutureWarning: The frame.append method is deprecated and will be removed from pandas in a future version. Use pandas.concat instead.\n",
      "  test_[['PassengerId','Transported']].append(fill_subset,ignore_index=True).reset_index(drop=True).to_csv('Result_3.csv',index=False)\n"
     ]
    }
   ],
   "source": [
    "fill_subset = pd.DataFrame()\n",
    "fill_subset['PassengerId']=list(set(test['PassengerId']) - set(test_['PassengerId'])) \n",
    "fill_subset['Transported']= False\n",
    "\n",
    "test_[['PassengerId','Transported']].append(fill_subset,ignore_index=True).reset_index(drop=True).to_csv('Result_3.csv',index=False)"
   ]
  },
  {
   "cell_type": "code",
   "execution_count": 18,
   "id": "9d4eda69",
   "metadata": {},
   "outputs": [
    {
     "data": {
      "text/html": [
       "<div>\n",
       "<style scoped>\n",
       "    .dataframe tbody tr th:only-of-type {\n",
       "        vertical-align: middle;\n",
       "    }\n",
       "\n",
       "    .dataframe tbody tr th {\n",
       "        vertical-align: top;\n",
       "    }\n",
       "\n",
       "    .dataframe thead th {\n",
       "        text-align: right;\n",
       "    }\n",
       "</style>\n",
       "<table border=\"1\" class=\"dataframe\">\n",
       "  <thead>\n",
       "    <tr style=\"text-align: right;\">\n",
       "      <th></th>\n",
       "      <th>PassengerId</th>\n",
       "      <th>Transported</th>\n",
       "    </tr>\n",
       "  </thead>\n",
       "  <tbody>\n",
       "  </tbody>\n",
       "</table>\n",
       "</div>"
      ],
      "text/plain": [
       "Empty DataFrame\n",
       "Columns: [PassengerId, Transported]\n",
       "Index: []"
      ]
     },
     "execution_count": 18,
     "metadata": {},
     "output_type": "execute_result"
    }
   ],
   "source": [
    "fill_subset"
   ]
  },
  {
   "cell_type": "code",
   "execution_count": 19,
   "id": "012fc83d",
   "metadata": {},
   "outputs": [
    {
     "name": "stderr",
     "output_type": "stream",
     "text": [
      "C:\\Users\\arvin\\AppData\\Local\\Temp\\ipykernel_3536\\3649455761.py:1: FutureWarning: The frame.append method is deprecated and will be removed from pandas in a future version. Use pandas.concat instead.\n",
      "  test_[['PassengerId','Transported']].append(fill_subset,ignore_index=True).reset_index(drop=True)\n"
     ]
    },
    {
     "data": {
      "text/html": [
       "<div>\n",
       "<style scoped>\n",
       "    .dataframe tbody tr th:only-of-type {\n",
       "        vertical-align: middle;\n",
       "    }\n",
       "\n",
       "    .dataframe tbody tr th {\n",
       "        vertical-align: top;\n",
       "    }\n",
       "\n",
       "    .dataframe thead th {\n",
       "        text-align: right;\n",
       "    }\n",
       "</style>\n",
       "<table border=\"1\" class=\"dataframe\">\n",
       "  <thead>\n",
       "    <tr style=\"text-align: right;\">\n",
       "      <th></th>\n",
       "      <th>PassengerId</th>\n",
       "      <th>Transported</th>\n",
       "    </tr>\n",
       "  </thead>\n",
       "  <tbody>\n",
       "    <tr>\n",
       "      <th>0</th>\n",
       "      <td>0013_01</td>\n",
       "      <td>True</td>\n",
       "    </tr>\n",
       "    <tr>\n",
       "      <th>1</th>\n",
       "      <td>0018_01</td>\n",
       "      <td>False</td>\n",
       "    </tr>\n",
       "    <tr>\n",
       "      <th>2</th>\n",
       "      <td>0019_01</td>\n",
       "      <td>True</td>\n",
       "    </tr>\n",
       "    <tr>\n",
       "      <th>3</th>\n",
       "      <td>0021_01</td>\n",
       "      <td>True</td>\n",
       "    </tr>\n",
       "    <tr>\n",
       "      <th>4</th>\n",
       "      <td>0023_01</td>\n",
       "      <td>True</td>\n",
       "    </tr>\n",
       "    <tr>\n",
       "      <th>...</th>\n",
       "      <td>...</td>\n",
       "      <td>...</td>\n",
       "    </tr>\n",
       "    <tr>\n",
       "      <th>4272</th>\n",
       "      <td>9266_02</td>\n",
       "      <td>True</td>\n",
       "    </tr>\n",
       "    <tr>\n",
       "      <th>4273</th>\n",
       "      <td>9269_01</td>\n",
       "      <td>True</td>\n",
       "    </tr>\n",
       "    <tr>\n",
       "      <th>4274</th>\n",
       "      <td>9271_01</td>\n",
       "      <td>True</td>\n",
       "    </tr>\n",
       "    <tr>\n",
       "      <th>4275</th>\n",
       "      <td>9273_01</td>\n",
       "      <td>True</td>\n",
       "    </tr>\n",
       "    <tr>\n",
       "      <th>4276</th>\n",
       "      <td>9277_01</td>\n",
       "      <td>False</td>\n",
       "    </tr>\n",
       "  </tbody>\n",
       "</table>\n",
       "<p>4277 rows × 2 columns</p>\n",
       "</div>"
      ],
      "text/plain": [
       "     PassengerId  Transported\n",
       "0        0013_01         True\n",
       "1        0018_01        False\n",
       "2        0019_01         True\n",
       "3        0021_01         True\n",
       "4        0023_01         True\n",
       "...          ...          ...\n",
       "4272     9266_02         True\n",
       "4273     9269_01         True\n",
       "4274     9271_01         True\n",
       "4275     9273_01         True\n",
       "4276     9277_01        False\n",
       "\n",
       "[4277 rows x 2 columns]"
      ]
     },
     "execution_count": 19,
     "metadata": {},
     "output_type": "execute_result"
    }
   ],
   "source": [
    "test_[['PassengerId','Transported']].append(fill_subset,ignore_index=True).reset_index(drop=True)"
   ]
  },
  {
   "cell_type": "code",
   "execution_count": 20,
   "id": "ce2d812d",
   "metadata": {},
   "outputs": [
    {
     "data": {
      "text/plain": [
       "X    4277\n",
       "Name: Transported, dtype: int64"
      ]
     },
     "execution_count": 20,
     "metadata": {},
     "output_type": "execute_result"
    }
   ],
   "source": [
    "test['Transported'].value_counts()"
   ]
  },
  {
   "cell_type": "code",
   "execution_count": 21,
   "id": "849c7576",
   "metadata": {},
   "outputs": [
    {
     "data": {
      "text/html": [
       "<div>\n",
       "<style scoped>\n",
       "    .dataframe tbody tr th:only-of-type {\n",
       "        vertical-align: middle;\n",
       "    }\n",
       "\n",
       "    .dataframe tbody tr th {\n",
       "        vertical-align: top;\n",
       "    }\n",
       "\n",
       "    .dataframe thead th {\n",
       "        text-align: right;\n",
       "    }\n",
       "</style>\n",
       "<table border=\"1\" class=\"dataframe\">\n",
       "  <thead>\n",
       "    <tr style=\"text-align: right;\">\n",
       "      <th></th>\n",
       "      <th>PassengerId</th>\n",
       "      <th>Transported</th>\n",
       "    </tr>\n",
       "  </thead>\n",
       "  <tbody>\n",
       "    <tr>\n",
       "      <th>0</th>\n",
       "      <td>0013_01</td>\n",
       "      <td>True</td>\n",
       "    </tr>\n",
       "    <tr>\n",
       "      <th>1</th>\n",
       "      <td>0018_01</td>\n",
       "      <td>False</td>\n",
       "    </tr>\n",
       "    <tr>\n",
       "      <th>2</th>\n",
       "      <td>0019_01</td>\n",
       "      <td>True</td>\n",
       "    </tr>\n",
       "    <tr>\n",
       "      <th>3</th>\n",
       "      <td>0021_01</td>\n",
       "      <td>True</td>\n",
       "    </tr>\n",
       "    <tr>\n",
       "      <th>4</th>\n",
       "      <td>0023_01</td>\n",
       "      <td>True</td>\n",
       "    </tr>\n",
       "    <tr>\n",
       "      <th>...</th>\n",
       "      <td>...</td>\n",
       "      <td>...</td>\n",
       "    </tr>\n",
       "    <tr>\n",
       "      <th>4272</th>\n",
       "      <td>9266_02</td>\n",
       "      <td>True</td>\n",
       "    </tr>\n",
       "    <tr>\n",
       "      <th>4273</th>\n",
       "      <td>9269_01</td>\n",
       "      <td>True</td>\n",
       "    </tr>\n",
       "    <tr>\n",
       "      <th>4274</th>\n",
       "      <td>9271_01</td>\n",
       "      <td>True</td>\n",
       "    </tr>\n",
       "    <tr>\n",
       "      <th>4275</th>\n",
       "      <td>9273_01</td>\n",
       "      <td>True</td>\n",
       "    </tr>\n",
       "    <tr>\n",
       "      <th>4276</th>\n",
       "      <td>9277_01</td>\n",
       "      <td>False</td>\n",
       "    </tr>\n",
       "  </tbody>\n",
       "</table>\n",
       "<p>4277 rows × 2 columns</p>\n",
       "</div>"
      ],
      "text/plain": [
       "     PassengerId  Transported\n",
       "0        0013_01         True\n",
       "1        0018_01        False\n",
       "2        0019_01         True\n",
       "3        0021_01         True\n",
       "4        0023_01         True\n",
       "...          ...          ...\n",
       "4272     9266_02         True\n",
       "4273     9269_01         True\n",
       "4274     9271_01         True\n",
       "4275     9273_01         True\n",
       "4276     9277_01        False\n",
       "\n",
       "[4277 rows x 2 columns]"
      ]
     },
     "execution_count": 21,
     "metadata": {},
     "output_type": "execute_result"
    }
   ],
   "source": [
    "test_[['PassengerId','Transported']]"
   ]
  },
  {
   "cell_type": "code",
   "execution_count": 25,
   "id": "ed21972f",
   "metadata": {},
   "outputs": [
    {
     "data": {
      "text/plain": [
       "Index(['PassengerId', 'Cabin', 'Age', 'VIP', 'Name', 'Transported',\n",
       "       'Passenger', 'Passenger1', 'Age_0_1', 'Age_1_2',\n",
       "       ...\n",
       "       'Cabin_0_G', 'Cabin_0_T', 'Cabin_2_P', 'Cabin_2_S', 'RoomService',\n",
       "       'FoodCourt', 'ShoppingMall', 'Spa', 'VRDeck', 'Cabin_1'],\n",
       "      dtype='object', length=111)"
      ]
     },
     "execution_count": 25,
     "metadata": {},
     "output_type": "execute_result"
    }
   ],
   "source": [
    "df.columns"
   ]
  },
  {
   "cell_type": "code",
   "execution_count": null,
   "id": "a12cab2d",
   "metadata": {},
   "outputs": [],
   "source": []
  }
 ],
 "metadata": {
  "kernelspec": {
   "display_name": "Python 3 (ipykernel)",
   "language": "python",
   "name": "python3"
  },
  "language_info": {
   "codemirror_mode": {
    "name": "ipython",
    "version": 3
   },
   "file_extension": ".py",
   "mimetype": "text/x-python",
   "name": "python",
   "nbconvert_exporter": "python",
   "pygments_lexer": "ipython3",
   "version": "3.10.3"
  }
 },
 "nbformat": 4,
 "nbformat_minor": 5
}
